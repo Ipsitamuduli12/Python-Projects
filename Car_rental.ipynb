{
 "cells": [
  {
   "cell_type": "code",
   "execution_count": null,
   "id": "7ce23fc1-9eb6-4290-9f5b-1f06e566afaf",
   "metadata": {},
   "outputs": [
    {
     "name": "stdout",
     "output_type": "stream",
     "text": [
      "\n",
      "        ===== Welcome to Online Car Rental =====\n",
      "        1. Display available cars\n",
      "        2. Request car on hourly basis ₹100/hr\n",
      "        3. Request car on daily basis ₹500/day\n",
      "        4. Request car on weekly basis ₹3000/week\n",
      "        5. Return car\n",
      "        6. Exit\n",
      "        \n"
     ]
    },
    {
     "name": "stdin",
     "output_type": "stream",
     "text": [
      "Enter your choice:  3\n",
      "How many cars would you like to rent?  4\n"
     ]
    },
    {
     "name": "stdout",
     "output_type": "stream",
     "text": [
      "Rented 4 car(s) on daily basis at 2025-07-30 15:09:50.411488\n",
      "\n",
      "        ===== Welcome to Online Car Rental =====\n",
      "        1. Display available cars\n",
      "        2. Request car on hourly basis ₹100/hr\n",
      "        3. Request car on daily basis ₹500/day\n",
      "        4. Request car on weekly basis ₹3000/week\n",
      "        5. Return car\n",
      "        6. Exit\n",
      "        \n"
     ]
    }
   ],
   "source": [
    "from datetime import datetime\n",
    "\n",
    "class CarRental:\n",
    "    def __init__(self, stock=0):\n",
    "        self.stock = stock\n",
    "\n",
    "    def display_available_cars(self):\n",
    "        print(f\"Available cars: {self.stock}\")\n",
    "\n",
    "    def rent_car_hourly(self, n):\n",
    "        if n <= 0 or n > self.stock:\n",
    "            return None\n",
    "        self.stock -= n\n",
    "        now = datetime.now()\n",
    "        print(f\"Rented {n} car(s) on hourly basis at {now}\")\n",
    "        return now\n",
    "\n",
    "    def rent_car_daily(self, n):\n",
    "        if n <= 0 or n > self.stock:\n",
    "            return None\n",
    "        self.stock -= n\n",
    "        now = datetime.now()\n",
    "        print(f\"Rented {n} car(s) on daily basis at {now}\")\n",
    "        return now\n",
    "\n",
    "    def rent_car_weekly(self, n):\n",
    "        if n <= 0 or n > self.stock:\n",
    "            return None\n",
    "        self.stock -= n\n",
    "        now = datetime.now()\n",
    "        print(f\"Rented {n} car(s) on weekly basis at {now}\")\n",
    "        return now\n",
    "\n",
    "    def return_car(self, request):\n",
    "        rental_time, rental_basis, num_of_cars = request\n",
    "        bill = 0\n",
    "\n",
    "        if rental_time and rental_basis and num_of_cars:\n",
    "            self.stock += num_of_cars\n",
    "            now = datetime.now()\n",
    "            rental_period = now - rental_time\n",
    "\n",
    "            if rental_basis == 1:  # hourly\n",
    "                bill = round(rental_period.total_seconds() / 3600) * 100 * num_of_cars\n",
    "            elif rental_basis == 2:  # daily\n",
    "                bill = round(rental_period.total_seconds() / (3600 * 24)) * 500 * num_of_cars\n",
    "            elif rental_basis == 3:  # weekly\n",
    "                bill = round(rental_period.total_seconds() / (3600 * 24 * 7)) * 3000 * num_of_cars\n",
    "\n",
    "            print(f\"Returned {num_of_cars} car(s). Bill: ₹{bill}\")\n",
    "            return bill\n",
    "        print(\"Return failed. Incomplete information.\")\n",
    "        return None\n",
    "\n",
    "\n",
    "class Customer:\n",
    "    def __init__(self):\n",
    "        self.cars = 0\n",
    "        self.rental_basis = 0\n",
    "        self.rental_time = None\n",
    "\n",
    "    def request_car(self):\n",
    "        self.cars = int(input(\"How many cars would you like to rent? \"))\n",
    "        return self.cars\n",
    "\n",
    "    def return_car(self):\n",
    "        if self.rental_time and self.rental_basis and self.cars:\n",
    "            return (self.rental_time, self.rental_basis, self.cars)\n",
    "        else:\n",
    "            return (0, 0, 0)\n",
    "\n",
    "\n",
    "def main():\n",
    "    shop = CarRental(20)\n",
    "    customer = Customer()\n",
    "\n",
    "    while True:\n",
    "        print(\"\"\"\n",
    "        ===== Welcome to Online Car Rental =====\n",
    "        1. Display available cars\n",
    "        2. Request car on hourly basis ₹100/hr\n",
    "        3. Request car on daily basis ₹500/day\n",
    "        4. Request car on weekly basis ₹3000/week\n",
    "        5. Return car\n",
    "        6. Exit\n",
    "        \"\"\")\n",
    "        choice = input(\"Enter your choice: \")\n",
    "\n",
    "        if choice == \"1\":\n",
    "            shop.display_available_cars()\n",
    "        elif choice == \"2\":\n",
    "            customer.request_car()\n",
    "            customer.rental_time = shop.rent_car_hourly(customer.cars)\n",
    "            customer.rental_basis = 1\n",
    "        elif choice == \"3\":\n",
    "            customer.request_car()\n",
    "            customer.rental_time = shop.rent_car_daily(customer.cars)\n",
    "            customer.rental_basis = 2\n",
    "        elif choice == \"4\":\n",
    "            customer.request_car()\n",
    "            customer.rental_time = shop.rent_car_weekly(customer.cars)\n",
    "            customer.rental_basis = 3\n",
    "        elif choice == \"5\":\n",
    "            bill = shop.return_car(customer.return_car())\n",
    "            customer.rental_basis, customer.rental_time, customer.cars = 0, None, 0\n",
    "        elif choice == \"6\":\n",
    "            break\n",
    "        else:\n",
    "            print(\"Invalid choice. Try again.\")\n",
    "\n",
    "main()\n",
    "\n",
    "\n",
    "  \n"
   ]
  },
  {
   "cell_type": "code",
   "execution_count": 16,
   "id": "7bfa15fa-8174-4b90-99e3-36383bff703e",
   "metadata": {},
   "outputs": [
    {
     "name": "stdout",
     "output_type": "stream",
     "text": [
      "['__doc__', '__file__', '__loader__', '__name__', '__package__', '__path__', '__spec__']\n"
     ]
    }
   ],
   "source": [
    "import car_rental\n",
    "print(dir(car_rental))\n"
   ]
  },
  {
   "cell_type": "code",
   "execution_count": 18,
   "id": "f45370f3-21d8-4dc1-a064-612d749cfab3",
   "metadata": {},
   "outputs": [
    {
     "name": "stdout",
     "output_type": "stream",
     "text": [
      "C:\\Users\\subra\n"
     ]
    }
   ],
   "source": [
    "import os\n",
    "print(os.getcwd())"
   ]
  },
  {
   "cell_type": "code",
   "execution_count": null,
   "id": "da1f8b3d-5c74-4060-9356-6924572fa60c",
   "metadata": {},
   "outputs": [],
   "source": []
  }
 ],
 "metadata": {
  "kernelspec": {
   "display_name": "Python 3 (ipykernel)",
   "language": "python",
   "name": "python3"
  },
  "language_info": {
   "codemirror_mode": {
    "name": "ipython",
    "version": 3
   },
   "file_extension": ".py",
   "mimetype": "text/x-python",
   "name": "python",
   "nbconvert_exporter": "python",
   "pygments_lexer": "ipython3",
   "version": "3.12.4"
  }
 },
 "nbformat": 4,
 "nbformat_minor": 5
}
